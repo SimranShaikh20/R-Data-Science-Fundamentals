{
  "nbformat": 4,
  "nbformat_minor": 0,
  "metadata": {
    "colab": {
      "provenance": [],
      "authorship_tag": "ABX9TyOPTGyrljsD6ZiGQi6fh8A4",
      "include_colab_link": true
    },
    "kernelspec": {
      "name": "ir",
      "display_name": "R"
    },
    "language_info": {
      "name": "R"
    }
  },
  "cells": [
    {
      "cell_type": "markdown",
      "metadata": {
        "id": "view-in-github",
        "colab_type": "text"
      },
      "source": [
        "<a href=\"https://colab.research.google.com/github/SimranShaikh20/R_language_Assignments/blob/main/Lab_3.ipynb\" target=\"_parent\"><img src=\"https://colab.research.google.com/assets/colab-badge.svg\" alt=\"Open In Colab\"/></a>"
      ]
    },
    {
      "cell_type": "code",
      "execution_count": null,
      "metadata": {
        "colab": {
          "base_uri": "https://localhost:8080/"
        },
        "id": "eYYgvMwoRsMU",
        "outputId": "875ce934-611c-4b4c-9e75-5569790935ae"
      },
      "outputs": [
        {
          "output_type": "stream",
          "name": "stdout",
          "text": [
            "Enter the first number (num1): 12\n",
            "Enter the second number (num2): 890\n",
            "[1] \"Addition   902\"\n"
          ]
        }
      ],
      "source": [
        "\n",
        "addition<-function(num1,num2){\n",
        "    return (num1+num2)\n",
        "}\n",
        "num1 <- as.numeric(readline(prompt = \"Enter the first number (num1): \"))\n",
        "num2 <- as.numeric(readline(prompt = \"Enter the second number (num2): \"))\n",
        "ans<-addition(num1,num2)\n",
        "print(paste(\"Addition  \", ans))"
      ]
    },
    {
      "cell_type": "code",
      "source": [
        "\n",
        "subtraction<-function(num1,num2){\n",
        "    return (num1-num2)\n",
        "}\n",
        "num1 <- as.numeric(readline(prompt = \"Enter the first number (num1): \"))\n",
        "num2 <- as.numeric(readline(prompt = \"Enter the second number (num2): \"))\n",
        "ans<-subtraction(num1,num2)\n",
        "print(paste(\"Subtraction  \", ans))"
      ],
      "metadata": {
        "colab": {
          "base_uri": "https://localhost:8080/"
        },
        "id": "gd8hg-zsIeYT",
        "outputId": "ecb0543b-5a20-4e83-d879-35e4bd109ebd"
      },
      "execution_count": 1,
      "outputs": [
        {
          "output_type": "stream",
          "name": "stdout",
          "text": [
            "Enter the first number (num1): 102\n",
            "Enter the second number (num2): 980\n",
            "[1] \"Subtraction   -878\"\n"
          ]
        }
      ]
    },
    {
      "cell_type": "code",
      "source": [
        "multiplication<-function(num1,num2){\n",
        "    return (num1*num2)\n",
        "}\n",
        "num1 <- as.numeric(readline(prompt = \"Enter the first number (num1): \"))\n",
        "num2 <- as.numeric(readline(prompt = \"Enter the second number (num2): \"))\n",
        "ans<-multiplication(num1,num2)\n",
        "print(paste(\"Multiplication \", ans))"
      ],
      "metadata": {
        "colab": {
          "base_uri": "https://localhost:8080/"
        },
        "id": "MdKsaNIIIeVR",
        "outputId": "9916f162-6b83-487e-fd7f-aa1c43234726"
      },
      "execution_count": 2,
      "outputs": [
        {
          "output_type": "stream",
          "name": "stdout",
          "text": [
            "Enter the first number (num1): 72\n",
            "Enter the second number (num2): 89\n",
            "[1] \"Multiplication  6408\"\n"
          ]
        }
      ]
    },
    {
      "cell_type": "code",
      "source": [
        "division<-function(num1,num2){\n",
        "    return (num1/num2)\n",
        "}\n",
        "num1 <- as.numeric(readline(prompt = \"Enter the first number (num1): \"))\n",
        "num2 <- as.numeric(readline(prompt = \"Enter the second number (num2): \"))\n",
        "ans<-division(num1,num2)\n",
        "print(paste(\"Division\", ans))"
      ],
      "metadata": {
        "colab": {
          "base_uri": "https://localhost:8080/"
        },
        "id": "MnVhmZOxIeSQ",
        "outputId": "dc25e149-3e4e-4572-8e09-70f65fdbecd9"
      },
      "execution_count": 3,
      "outputs": [
        {
          "output_type": "stream",
          "name": "stdout",
          "text": [
            "Enter the first number (num1): 89\n",
            "Enter the second number (num2): 79\n",
            "[1] \"Division 1.12658227848101\"\n"
          ]
        }
      ]
    },
    {
      "cell_type": "code",
      "source": [
        "simple_interest <- function(price, rate, time) {\n",
        "  return((price * rate * time) / 100)\n",
        "}\n",
        "\n",
        "price <- as.numeric(readline(prompt = \"Enter  Principal amount : \"))\n",
        "rate <- as.numeric(readline(prompt = \"Enter Rate of interest per annum  : \"))\n",
        "time <- as.numeric(readline(prompt = \"Enter Time period : \"))\n",
        "SI <- simple_interest(price, rate, time)\n",
        "cat(\"Simple Interest:\", SI, \"\\n\")"
      ],
      "metadata": {
        "colab": {
          "base_uri": "https://localhost:8080/"
        },
        "id": "qCmlQgrBIePc",
        "outputId": "9e3a954c-d3b7-4cc0-ab99-82b705d710f5"
      },
      "execution_count": 4,
      "outputs": [
        {
          "output_type": "stream",
          "name": "stdout",
          "text": [
            "Enter  Principal amount : 1000000\n",
            "Enter Rate of interest per annum  : 2060\n",
            "Enter Time period : 12\n",
            "Simple Interest: 247200000 \n"
          ]
        }
      ]
    },
    {
      "cell_type": "code",
      "source": [
        "compound_interest <- function(price, rate, time, n) {\n",
        "  return (price * (1 + rate/(100 * n))^(n * time))  # Convert rate to decimal\n",
        "}\n",
        "\n",
        "price <- as.numeric(readline(prompt = \"Enter Principal amount (P): \"))\n",
        "rate <- as.numeric(readline(prompt = \"Enter Rate of interest per annum (R) in %: \"))\n",
        "time <- as.numeric(readline(prompt = \"Enter Time period (T) in years: \"))\n",
        "n <- as.numeric(readline(prompt = \"Enter Number of times interest is compounded per year (n): \"))\n",
        "\n",
        "# Calculate Compound Interest\n",
        "final_amount <- compound_interest(price, rate, time, n)\n",
        "CI <- final_amount - price  # Compound Interest = Final Amount - Principal\n",
        "\n",
        "cat(\"Compound Interest:\", CI, \"\\n\")\n",
        "cat(\"Total Amount after\", time, \"years:\", final_amount, \"\\n\")\n"
      ],
      "metadata": {
        "colab": {
          "base_uri": "https://localhost:8080/"
        },
        "id": "i8qwDyoYIeLs",
        "outputId": "34c2317e-6898-424b-ac29-de4d35ae64a1"
      },
      "execution_count": 7,
      "outputs": [
        {
          "output_type": "stream",
          "name": "stdout",
          "text": [
            "Enter Principal amount (P): 10000\n",
            "Enter Rate of interest per annum (R) in %: 5\n",
            "Enter Time period (T) in years: 2\n",
            "Enter Number of times interest is compounded per year (n): 4\n",
            "Compound Interest: 1044.861 \n",
            "Total Amount after 2 years: 11044.86 \n"
          ]
        }
      ]
    },
    {
      "cell_type": "code",
      "source": [
        "celsius_to_fahrenheit <- function(c) {\n",
        "  return((c * 9/5) + 32)\n",
        "}\n",
        "\n",
        "fahrenheit_to_celsius <- function(f) {\n",
        "  return((f - 32) * 5/9)\n",
        "}\n",
        "\n",
        "celsius <- as.numeric(readline(prompt = \"Enter Celsius: \"))\n",
        "fahrenheit <- celsius_to_fahrenheit(celsius)\n",
        "cat(celsius, \"Celsius =\", fahrenheit, \"Fahrenheit\\n\")\n",
        "fahrenheit <- as.numeric(readline(prompt = \"Enter Frehenhit : \"))\n",
        "celsius <- fahrenheit_to_celsius(fahrenheit)\n",
        "cat(fahrenheit, \"Fahrenheit =\", celsius, \"Celsius\\n\")"
      ],
      "metadata": {
        "colab": {
          "base_uri": "https://localhost:8080/"
        },
        "id": "AaMjfe6WIeJH",
        "outputId": "604eb732-055e-4324-c7ec-b7cbe0a6c822"
      },
      "execution_count": 8,
      "outputs": [
        {
          "output_type": "stream",
          "name": "stdout",
          "text": [
            "Enter Celsius: 20\n",
            "20 Celsius = 68 Fahrenheit\n",
            "Enter Frehenhit : 56\n",
            "56 Fahrenheit = 13.33333 Celsius\n"
          ]
        }
      ]
    },
    {
      "cell_type": "code",
      "source": [
        "# Function to convert Pounds to Rupees\n",
        "pounds_to_rupees <- function(pounds, exchange_rate) {\n",
        "  return(pounds * exchange_rate)\n",
        "}\n",
        "\n",
        "# Function to convert Rupees to Pounds\n",
        "rupees_to_pounds <- function(rupees, exchange_rate) {\n",
        "  return(rupees / exchange_rate)\n",
        "}\n",
        "\n",
        "# Exchange rate (Assuming 1 GBP = 105 INR as an example)\n",
        "exchange_rate <- 105\n",
        "\n",
        "# Convert Pounds to Rupees\n",
        "pounds <- as.numeric(readline(prompt = \"Enter amount in Pounds (GBP): \"))\n",
        "rupees <- pounds_to_rupees(pounds, exchange_rate)\n",
        "cat(pounds, \"Pounds =\", rupees, \"Rupees\\n\")\n",
        "\n",
        "# Convert Rupees to Pounds\n",
        "rupees <- as.numeric(readline(prompt = \"Enter amount in Rupees (INR): \"))\n",
        "pounds <- rupees_to_pounds(rupees, exchange_rate)\n",
        "cat(rupees, \"Rupees =\", pounds, \"Pounds\\n\")"
      ],
      "metadata": {
        "colab": {
          "base_uri": "https://localhost:8080/"
        },
        "id": "7GMzGNM3IeGO",
        "outputId": "20134194-afd4-42b5-9f67-facec06cd4b7"
      },
      "execution_count": 9,
      "outputs": [
        {
          "output_type": "stream",
          "name": "stdout",
          "text": [
            "Enter amount in Pounds (GBP): 1220\n",
            "1220 Pounds = 128100 Rupees\n",
            "Enter amount in Rupees (INR): 1000\n",
            "1000 Rupees = 9.52381 Pounds\n"
          ]
        }
      ]
    },
    {
      "cell_type": "code",
      "source": [
        "\n",
        "area_circle<-function(radius){\n",
        "    return (3.14 * radius^2)\n",
        "}\n",
        "radius <- as.numeric(readline(prompt = \"Enter radius of circle: \"))\n",
        "\n",
        "ans<-area_circle(radius)\n",
        "print(paste(\"Area of circle   \", ans))"
      ],
      "metadata": {
        "colab": {
          "base_uri": "https://localhost:8080/"
        },
        "id": "8X7cVA0_IeCj",
        "outputId": "dad5d614-66cc-4642-8fa6-9a704609c4ef"
      },
      "execution_count": 10,
      "outputs": [
        {
          "output_type": "stream",
          "name": "stdout",
          "text": [
            "Enter radius of circle: 20\n",
            "[1] \"Area of circle    1256\"\n"
          ]
        }
      ]
    },
    {
      "cell_type": "code",
      "source": [
        "\n",
        "perimeter_rectangle<-function(length, width){\n",
        "    return  (2 * (length + width))\n",
        "\n",
        "}\n",
        "length <- as.numeric(readline(prompt = \"Enter length of rectangle: \"))\n",
        "width<- as.numeric(readline(prompt = \"Enter width of rectangle: \"))\n",
        "ans<-perimeter_rectangle(length,width)\n",
        "print(paste(\"Perimeter of rectangle  \", ans))"
      ],
      "metadata": {
        "colab": {
          "base_uri": "https://localhost:8080/"
        },
        "id": "jAR7828aKxoe",
        "outputId": "7d849b24-99ca-4995-b4fa-e19d5ee475e4"
      },
      "execution_count": 12,
      "outputs": [
        {
          "output_type": "stream",
          "name": "stdout",
          "text": [
            "Enter length of rectangle: 12\n",
            "Enter width of rectangle: 20\n",
            "[1] \"Perimeter of rectangle   64\"\n"
          ]
        }
      ]
    }
  ]
}
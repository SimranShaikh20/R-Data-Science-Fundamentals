{
  "nbformat": 4,
  "nbformat_minor": 0,
  "metadata": {
    "colab": {
      "provenance": [],
      "authorship_tag": "ABX9TyNRW6ddSZ3G1ucCqt1eycjs",
      "include_colab_link": true
    },
    "kernelspec": {
      "name": "ir",
      "display_name": "R"
    },
    "language_info": {
      "name": "R"
    }
  },
  "cells": [
    {
      "cell_type": "markdown",
      "metadata": {
        "id": "view-in-github",
        "colab_type": "text"
      },
      "source": [
        "<a href=\"https://colab.research.google.com/github/SimranShaikh20/R_language_Assignments/blob/main/Lab_4.ipynb\" target=\"_parent\"><img src=\"https://colab.research.google.com/assets/colab-badge.svg\" alt=\"Open In Colab\"/></a>"
      ]
    },
    {
      "cell_type": "markdown",
      "source": [
        "If Statement: Check if a Number is Positive"
      ],
      "metadata": {
        "id": "SpW5wdpln3kN"
      }
    },
    {
      "cell_type": "code",
      "source": [
        "num <- as.integer(readline(\"Enter a number: \"))\n",
        "if (num > 0) {\n",
        "  print(\"The number is positive\")\n",
        "}\n"
      ],
      "metadata": {
        "colab": {
          "base_uri": "https://localhost:8080/"
        },
        "id": "I6WtPdS6nzRd",
        "outputId": "66fd971f-3876-4332-ed8f-7e3b2c681816"
      },
      "execution_count": 12,
      "outputs": [
        {
          "output_type": "stream",
          "name": "stdout",
          "text": [
            "Enter a number: 21\n",
            "[1] \"The number is positive\"\n"
          ]
        }
      ]
    },
    {
      "cell_type": "markdown",
      "source": [
        "If-Else Statement: Check if a Number is Even or Odd"
      ],
      "metadata": {
        "id": "ayie79sYoeza"
      }
    },
    {
      "cell_type": "code",
      "source": [
        "num <- as.integer(readline(\"Enter a number: \"))\n",
        "if (num %% 2 == 0) {\n",
        "  print(\"The number is Even\")\n",
        "} else {\n",
        "  print(\"The number is Odd\")\n",
        "}\n"
      ],
      "metadata": {
        "colab": {
          "base_uri": "https://localhost:8080/"
        },
        "id": "zaSWFSbAnzOb",
        "outputId": "946193b0-1430-4b6f-f373-c6bbc12d5b93"
      },
      "execution_count": 13,
      "outputs": [
        {
          "output_type": "stream",
          "name": "stdout",
          "text": [
            "Enter a number: 2\n",
            "[1] \"The number is Even\"\n"
          ]
        }
      ]
    },
    {
      "cell_type": "markdown",
      "source": [
        "If-Else If-Else: Categorize Student's Grade"
      ],
      "metadata": {
        "id": "ovVvv0wHopDZ"
      }
    },
    {
      "cell_type": "code",
      "source": [
        "marks <- as.integer(readline(\"Enter marks: \"))\n",
        "if (marks >= 90) {\n",
        "  print(\"Grade A\")\n",
        "} else if (marks >= 75) {\n",
        "  print(\"Grade B\")\n",
        "} else if (marks >= 60) {\n",
        "  print(\"Grade C\")\n",
        "} else if (marks >= 45) {\n",
        "  print(\"Grade D\")\n",
        "} else {\n",
        "  print(\"Grade F\")\n",
        "}\n"
      ],
      "metadata": {
        "colab": {
          "base_uri": "https://localhost:8080/"
        },
        "id": "aSv_GgsUnzLp",
        "outputId": "07d26f00-1b62-4343-e5ef-20602e7671b1"
      },
      "execution_count": 14,
      "outputs": [
        {
          "output_type": "stream",
          "name": "stdout",
          "text": [
            "Enter marks: 98\n",
            "[1] \"Grade A\"\n"
          ]
        }
      ]
    },
    {
      "cell_type": "markdown",
      "source": [
        " For Loop: Print First 10 Natural Numbers"
      ],
      "metadata": {
        "id": "SczOLIiHortU"
      }
    },
    {
      "cell_type": "code",
      "source": [
        "for (i in 1:10) {\n",
        "  print(i)\n",
        "}\n"
      ],
      "metadata": {
        "colab": {
          "base_uri": "https://localhost:8080/"
        },
        "id": "otRx-vM7nzIr",
        "outputId": "7daf6c6f-c900-4542-d4aa-4811c0c2b490"
      },
      "execution_count": 15,
      "outputs": [
        {
          "output_type": "stream",
          "name": "stdout",
          "text": [
            "[1] 1\n",
            "[1] 2\n",
            "[1] 3\n",
            "[1] 4\n",
            "[1] 5\n",
            "[1] 6\n",
            "[1] 7\n",
            "[1] 8\n",
            "[1] 9\n",
            "[1] 10\n"
          ]
        }
      ]
    },
    {
      "cell_type": "markdown",
      "source": [
        "For Loop with Vectors: Square of Each Element"
      ],
      "metadata": {
        "id": "Uvsij43Cozmn"
      }
    },
    {
      "cell_type": "code",
      "source": [
        "numbers <- c(1, 2, 3, 4, 5)\n",
        "squares <- numbers^2\n",
        "print(squares)\n"
      ],
      "metadata": {
        "colab": {
          "base_uri": "https://localhost:8080/"
        },
        "id": "XX647tX0nzFm",
        "outputId": "43378c53-06e2-4926-9201-9359e9005b96"
      },
      "execution_count": 16,
      "outputs": [
        {
          "output_type": "stream",
          "name": "stdout",
          "text": [
            "[1]  1  4  9 16 25\n"
          ]
        }
      ]
    },
    {
      "cell_type": "markdown",
      "source": [
        "While Loop: Print Numbers from 1 to 5"
      ],
      "metadata": {
        "id": "GGbybTNAo1rC"
      }
    },
    {
      "cell_type": "code",
      "source": [
        "i <- 1\n",
        "while (i <= 5) {\n",
        "  print(i)\n",
        "  i <- i + 1\n",
        "}\n"
      ],
      "metadata": {
        "colab": {
          "base_uri": "https://localhost:8080/"
        },
        "id": "2hz1zzCno1an",
        "outputId": "54a11e3d-bfde-4c6d-c93d-b7f5e36b9fcb"
      },
      "execution_count": 17,
      "outputs": [
        {
          "output_type": "stream",
          "name": "stdout",
          "text": [
            "[1] 1\n",
            "[1] 2\n",
            "[1] 3\n",
            "[1] 4\n",
            "[1] 5\n"
          ]
        }
      ]
    },
    {
      "cell_type": "markdown",
      "source": [
        "While Loop: Find Factorial of a Number"
      ],
      "metadata": {
        "id": "L0ZY0pTwo6xU"
      }
    },
    {
      "cell_type": "code",
      "source": [
        "num <- as.integer(readline(\"Enter a number: \"))\n",
        "fact <- 1\n",
        "i <- num\n",
        "while (i > 1) {\n",
        "  fact <- fact * i\n",
        "  i <- i - 1\n",
        "}\n",
        "print(paste(\"Factorial of\", num, \"is\", fact))\n"
      ],
      "metadata": {
        "colab": {
          "base_uri": "https://localhost:8080/"
        },
        "id": "xUB-cruIo1XJ",
        "outputId": "d5cc8db4-b926-488b-bea3-351abfb51e1e"
      },
      "execution_count": 18,
      "outputs": [
        {
          "output_type": "stream",
          "name": "stdout",
          "text": [
            "Enter a number: 7\n",
            "[1] \"Factorial of 7 is 5040\"\n"
          ]
        }
      ]
    },
    {
      "cell_type": "markdown",
      "source": [
        "Convert For Loop to While Loop (Print 1 to 10)"
      ],
      "metadata": {
        "id": "uGi7K_SrpCtH"
      }
    },
    {
      "cell_type": "code",
      "source": [
        "i <- 1\n",
        "while (i <= 10) {\n",
        "  print(i)\n",
        "  i <- i + 1\n",
        "}\n"
      ],
      "metadata": {
        "colab": {
          "base_uri": "https://localhost:8080/"
        },
        "id": "2LtqiVuyo1UO",
        "outputId": "dc295cba-4fa5-418e-acde-a9a3a20ec0a1"
      },
      "execution_count": 20,
      "outputs": [
        {
          "output_type": "stream",
          "name": "stdout",
          "text": [
            "[1] 1\n",
            "[1] 2\n",
            "[1] 3\n",
            "[1] 4\n",
            "[1] 5\n",
            "[1] 6\n",
            "[1] 7\n",
            "[1] 8\n",
            "[1] 9\n",
            "[1] 10\n"
          ]
        }
      ]
    },
    {
      "cell_type": "markdown",
      "source": [
        "Check if a Number is Greater than 100"
      ],
      "metadata": {
        "id": "ENpXOtqPpJ30"
      }
    },
    {
      "cell_type": "code",
      "source": [
        "num <- as.integer(readline(\"Enter a number: \"))\n",
        "if (num > 100) {\n",
        "  print(\"Greater than 100\")\n",
        "} else { # 'else' is now on the same line as the closing '}' of the 'if' block\n",
        "   print(\"Less than 100\")\n",
        "}"
      ],
      "metadata": {
        "colab": {
          "base_uri": "https://localhost:8080/"
        },
        "id": "xBmnqnC4o1Rk",
        "outputId": "4b09279a-371f-461b-a900-e9360a3fcdbe"
      },
      "execution_count": 23,
      "outputs": [
        {
          "output_type": "stream",
          "name": "stdout",
          "text": [
            "Enter a number: 2\n",
            "[1] \"Less than 100\"\n"
          ]
        }
      ]
    },
    {
      "cell_type": "markdown",
      "source": [
        "Check if a Number is Divisible by 5"
      ],
      "metadata": {
        "id": "DhRnq7G7pgoL"
      }
    },
    {
      "cell_type": "code",
      "source": [
        "num <- as.integer(readline(\"Enter a number: \"))\n",
        "if (num %% 5 == 0) {\n",
        "  print(\"Divisible by 5\")\n",
        "} else {\n",
        "  print(\"Not divisible by 5\")\n",
        "}\n"
      ],
      "metadata": {
        "colab": {
          "base_uri": "https://localhost:8080/"
        },
        "id": "fcT1JKy2o1O0",
        "outputId": "4967428d-ac7e-4394-e95b-fa4d4ef65f04"
      },
      "execution_count": 24,
      "outputs": [
        {
          "output_type": "stream",
          "name": "stdout",
          "text": [
            "Enter a number: 45\n",
            "[1] \"Divisible by 5\"\n"
          ]
        }
      ]
    },
    {
      "cell_type": "markdown",
      "source": [
        "Check if a Student has Passed or Failed"
      ],
      "metadata": {
        "id": "c32U-BXMpnS4"
      }
    },
    {
      "cell_type": "code",
      "source": [
        "marks <- as.integer(readline(\"Enter marks: \"))\n",
        "if (marks >= 40) {\n",
        "  print(\"Pass\")\n",
        "} else {\n",
        "  print(\"Fail\")\n",
        "}\n"
      ],
      "metadata": {
        "colab": {
          "base_uri": "https://localhost:8080/"
        },
        "id": "9gr1N1OGpqbo",
        "outputId": "5d9971d5-32ef-4976-b4e9-92057e185e1b"
      },
      "execution_count": 25,
      "outputs": [
        {
          "output_type": "stream",
          "name": "stdout",
          "text": [
            "Enter marks: 89\n",
            "[1] \"Pass\"\n"
          ]
        }
      ]
    },
    {
      "cell_type": "markdown",
      "source": [
        "Check if a Year is a Leap Year"
      ],
      "metadata": {
        "id": "_CT3WOKIpy-Q"
      }
    },
    {
      "cell_type": "code",
      "source": [
        "year <- as.integer(readline(\"Enter a year: \"))\n",
        "if ((year %% 4 == 0 & year %% 100 != 0) | (year %% 400 == 0)) {\n",
        "  print(\"Leap Year\")\n",
        "} else {\n",
        "  print(\"Not a Leap Year\")\n",
        "}\n"
      ],
      "metadata": {
        "colab": {
          "base_uri": "https://localhost:8080/"
        },
        "id": "ZlDiT3J6pqhd",
        "outputId": "bae3deb8-5f63-4cd8-e5fb-806f13e1ccf9"
      },
      "execution_count": 26,
      "outputs": [
        {
          "output_type": "stream",
          "name": "stdout",
          "text": [
            "Enter a year: 1999\n",
            "[1] \"Not a Leap Year\"\n"
          ]
        }
      ]
    },
    {
      "cell_type": "markdown",
      "source": [
        "Classify a Number as Positive, Negative, or Zero"
      ],
      "metadata": {
        "id": "kMJKrIwpp3w7"
      }
    },
    {
      "cell_type": "code",
      "source": [
        "num <- as.integer(readline(\"Enter a number: \"))\n",
        "if (num > 0) {\n",
        "  print(\"Positive\")\n",
        "} else if (num < 0) {\n",
        "  print(\"Negative\")\n",
        "} else {\n",
        "  print(\"Zero\")\n",
        "}\n"
      ],
      "metadata": {
        "colab": {
          "base_uri": "https://localhost:8080/"
        },
        "id": "09nyZtRrp2FM",
        "outputId": "9ea4e8f8-f327-44f9-ac69-5030d779666d"
      },
      "execution_count": 27,
      "outputs": [
        {
          "output_type": "stream",
          "name": "stdout",
          "text": [
            "Enter a number: 0\n",
            "[1] \"Zero\"\n"
          ]
        }
      ]
    },
    {
      "cell_type": "markdown",
      "source": [
        "Categorize Temperature"
      ],
      "metadata": {
        "id": "z1VZicaVqBeW"
      }
    },
    {
      "cell_type": "code",
      "source": [
        "temp <- as.integer(readline(\"Enter temperature in °C: \"))\n",
        "if (temp <= 10) {\n",
        "  print(\"Cold\")\n",
        "} else if (temp <= 25) {\n",
        "  print(\"Warm\")\n",
        "} else {\n",
        "  print(\"Hot\")\n",
        "}\n"
      ],
      "metadata": {
        "colab": {
          "base_uri": "https://localhost:8080/"
        },
        "id": "MKhTnHR5p2Bw",
        "outputId": "50c934ab-056a-4f62-b9ef-cb09845dc238"
      },
      "execution_count": 28,
      "outputs": [
        {
          "output_type": "stream",
          "name": "stdout",
          "text": [
            "Enter temperature in °C: 45\n",
            "[1] \"Hot\"\n"
          ]
        }
      ]
    },
    {
      "cell_type": "markdown",
      "source": [
        " Print First 10 Square Numbers"
      ],
      "metadata": {
        "id": "MVz2IKVaqHOf"
      }
    },
    {
      "cell_type": "code",
      "source": [
        "for (i in 1:10) {\n",
        "  print(i^2)\n",
        "}\n"
      ],
      "metadata": {
        "colab": {
          "base_uri": "https://localhost:8080/"
        },
        "id": "0F7To-oQp123",
        "outputId": "085ba73f-6145-49b9-84be-0e2cb5c38724"
      },
      "execution_count": 29,
      "outputs": [
        {
          "output_type": "stream",
          "name": "stdout",
          "text": [
            "[1] 1\n",
            "[1] 4\n",
            "[1] 9\n",
            "[1] 16\n",
            "[1] 25\n",
            "[1] 36\n",
            "[1] 49\n",
            "[1] 64\n",
            "[1] 81\n",
            "[1] 100\n"
          ]
        }
      ]
    },
    {
      "cell_type": "code",
      "source": [
        "num <- as.integer(readline(\"Enter a number: \"))\n",
        "fact <- 1\n",
        "for (i in 1:num) {\n",
        "  fact <- fact * i\n",
        "}\n",
        "print(paste(\"Factorial:\", fact))\n"
      ],
      "metadata": {
        "colab": {
          "base_uri": "https://localhost:8080/"
        },
        "id": "FpdFvMfjqLzt",
        "outputId": "e48851c9-d4c2-48c0-80b0-d353337a913d"
      },
      "execution_count": 30,
      "outputs": [
        {
          "output_type": "stream",
          "name": "stdout",
          "text": [
            "Enter a number: 6\n",
            "[1] \"Factorial: 720\"\n"
          ]
        }
      ]
    },
    {
      "cell_type": "markdown",
      "source": [
        "Sum of First 10 Natural Numbers using While Loop"
      ],
      "metadata": {
        "id": "vi5VK7LVqSEt"
      }
    },
    {
      "cell_type": "code",
      "source": [
        "sum <- 0\n",
        "i <- 1\n",
        "while (i <= 10) {\n",
        "  sum <- sum + i\n",
        "  i <- i + 1\n",
        "}\n",
        "print(paste(\"Sum:\", sum))\n"
      ],
      "metadata": {
        "colab": {
          "base_uri": "https://localhost:8080/"
        },
        "id": "dkdC7sKxqLv2",
        "outputId": "d18e1f9f-941f-406d-eacd-31a509ead6fc"
      },
      "execution_count": 31,
      "outputs": [
        {
          "output_type": "stream",
          "name": "stdout",
          "text": [
            "[1] \"Sum: 55\"\n"
          ]
        }
      ]
    },
    {
      "cell_type": "markdown",
      "source": [
        "Count Even Numbers from 1 to 20"
      ],
      "metadata": {
        "id": "Hz8nT8CiqV-u"
      }
    },
    {
      "cell_type": "code",
      "source": [
        "count <- 0\n",
        "i <- 1\n",
        "while (i <= 20) {\n",
        "  if (i %% 2 == 0) {\n",
        "    count <- count + 1\n",
        "  }\n",
        "  i <- i + 1\n",
        "}\n",
        "print(paste(\"Even numbers count:\", count))\n"
      ],
      "metadata": {
        "colab": {
          "base_uri": "https://localhost:8080/"
        },
        "id": "QTdtRgtWqLst",
        "outputId": "9b49f67f-b520-4390-b9ac-f46ef7104992"
      },
      "execution_count": 32,
      "outputs": [
        {
          "output_type": "stream",
          "name": "stdout",
          "text": [
            "[1] \"Even numbers count: 10\"\n"
          ]
        }
      ]
    },
    {
      "cell_type": "markdown",
      "source": [
        "Program to calculate the Mean of data."
      ],
      "metadata": {
        "id": "7Jzfo3TaloIA"
      }
    },
    {
      "cell_type": "code",
      "execution_count": null,
      "metadata": {
        "colab": {
          "base_uri": "https://localhost:8080/"
        },
        "id": "cghBVB6clb3U",
        "outputId": "23b71771-e539-43d3-b9d4-a94760c7e02d"
      },
      "outputs": [
        {
          "output_type": "stream",
          "name": "stdout",
          "text": [
            "Custom Mean: 3 \n",
            "Built-in Mean: 3 \n"
          ]
        }
      ],
      "source": [
        "calculate_mean <- function(data) {\n",
        "  sum(data) / length(data)\n",
        "}\n",
        "\n",
        "# Example data\n",
        "data <- c(1, 2, 3, 4, 5)\n",
        "\n",
        "# Compute mean using function\n",
        "mean_custom <- calculate_mean(data)\n",
        "\n",
        "# Compute mean using inbuilt function\n",
        "mean_builtin <- mean(data)\n",
        "\n",
        "# Print results\n",
        "cat(\"Custom Mean:\", mean_custom, \"\\n\")\n",
        "cat(\"Built-in Mean:\", mean_builtin, \"\\n\")\n"
      ]
    },
    {
      "cell_type": "markdown",
      "source": [
        "Program to calculate the Median of data.\n"
      ],
      "metadata": {
        "id": "FXWN2aROl5zE"
      }
    },
    {
      "cell_type": "code",
      "source": [
        "calculate_median <- function(data) {\n",
        "  sorted_data <- sort(data)\n",
        "  n <- length(data)\n",
        "  if (n %% 2 == 1) {\n",
        "    return(odd(sorted_data,n)) # Added parentheses to call odd function\n",
        "  } else {\n",
        "     return(even(sorted_data,n)) # Added parentheses to call even function\n",
        "  }\n",
        "}\n",
        "odd<-function(sorted_data,n){\n",
        "  return ((sorted_data[n / 2] + sorted_data[n / 2 + 1]) / 2)\n",
        "}\n",
        "even<-function(sorted_data,n){\n",
        "   return(sorted_data[(n + 1) / 2])\n",
        "}\n",
        "\n",
        "data <- c(1, 2, 3, 4, 5,15,3,25,21,40,11,6,7,8)\n",
        "# Compute median\n",
        "median_custom <- calculate_median(data)\n",
        "median_builtin <- median(data)\n",
        "\n",
        "cat(\"Custom Median:\", median_custom, \"\\n\")\n",
        "cat(\"Built-in Median:\", median_builtin, \"\\n\")"
      ],
      "metadata": {
        "colab": {
          "base_uri": "https://localhost:8080/"
        },
        "id": "-q9OFP8fl7dS",
        "outputId": "73ce4dd2-e78a-4bf3-ba6c-5fee6c96c734"
      },
      "execution_count": null,
      "outputs": [
        {
          "output_type": "stream",
          "name": "stdout",
          "text": [
            "Custom Median: 6 \n",
            "Built-in Median: 6.5 \n"
          ]
        }
      ]
    },
    {
      "cell_type": "markdown",
      "source": [
        "Program to calculate the Mode of data.\n"
      ],
      "metadata": {
        "id": "oWSurp8wmSwu"
      }
    },
    {
      "cell_type": "code",
      "source": [
        "calculate_mode <- function(data) {\n",
        "  unique_data <- unique(data)\n",
        "  freq <- table(data)\n",
        "  return(unique_data[which.max(freq)])\n",
        "}\n",
        "\n",
        "data_mode <- c(1, 2, 2, 3, 3, 3,1,2,3,4, 4, 5)\n",
        "\n",
        "mode_custom <- calculate_mode(data_mode)\n",
        "mode_builtin <- as.numeric(names(sort(-table(data_mode)))[1])\n",
        "\n",
        "cat(\"Custom Mode:\", mode_custom, \"\\n\")\n",
        "cat(\"Built-in Mode:\", mode_builtin, \"\\n\")\n"
      ],
      "metadata": {
        "colab": {
          "base_uri": "https://localhost:8080/"
        },
        "id": "p-dSjwXJmQw9",
        "outputId": "2edd606e-a5e6-4b2f-84c1-ce65d978bf3d"
      },
      "execution_count": null,
      "outputs": [
        {
          "output_type": "stream",
          "name": "stdout",
          "text": [
            "Custom Mode: 3 \n",
            "Built-in Mode: 3 \n"
          ]
        }
      ]
    },
    {
      "cell_type": "markdown",
      "source": [
        "Program to calculate the Standard Deviation.\n"
      ],
      "metadata": {
        "id": "Iin5Bnpemb6u"
      }
    },
    {
      "cell_type": "code",
      "source": [
        "calculate_sd <- function(data) {\n",
        "  mean_value <- mean(data)\n",
        "  sqrt(sum((data - mean_value)^2) / (length(data) - 1))\n",
        "}\n",
        "\n",
        "sd_custom <- calculate_sd(data)\n",
        "sd_builtin <- sd(data)\n",
        "\n",
        "cat(\"Custom Standard Deviation:\", sd_custom, \"\\n\")\n",
        "cat(\"Built-in Standard Deviation:\", sd_builtin, \"\\n\")\n"
      ],
      "metadata": {
        "colab": {
          "base_uri": "https://localhost:8080/"
        },
        "id": "Jk2VgURZmVFS",
        "outputId": "3613fb07-10bf-4dd6-d150-d863f79b668e"
      },
      "execution_count": null,
      "outputs": [
        {
          "output_type": "stream",
          "name": "stdout",
          "text": [
            "Custom Standard Deviation: 11.08137 \n",
            "Built-in Standard Deviation: 11.08137 \n"
          ]
        }
      ]
    },
    {
      "cell_type": "markdown",
      "source": [
        "Program to calculate the Variance.\n"
      ],
      "metadata": {
        "id": "iD6TogGXmhZK"
      }
    },
    {
      "cell_type": "code",
      "source": [
        "calculate_variance <- function(data) {\n",
        "  mean_value <- mean(data)\n",
        "  sum((data - mean_value)^2) / (length(data) - 1)\n",
        "}\n",
        "\n",
        "variance_custom <- calculate_variance(data)\n",
        "variance_builtin <- var(data)\n",
        "\n",
        "cat(\"Custom Variance:\", variance_custom, \"\\n\")\n",
        "cat(\"Built-in Variance:\", variance_builtin, \"\\n\")\n"
      ],
      "metadata": {
        "colab": {
          "base_uri": "https://localhost:8080/"
        },
        "id": "uBVQHxb9mkxI",
        "outputId": "e61332ef-6a15-4824-b5e8-89343bf347bf"
      },
      "execution_count": null,
      "outputs": [
        {
          "output_type": "stream",
          "name": "stdout",
          "text": [
            "Custom Variance: 122.7967 \n",
            "Built-in Variance: 122.7967 \n"
          ]
        }
      ]
    },
    {
      "cell_type": "markdown",
      "source": [
        "Program to calculate the Coefficient of Variation (CV).\n",
        "\n"
      ],
      "metadata": {
        "id": "76MCxP73mtle"
      }
    },
    {
      "cell_type": "code",
      "source": [
        "calculate_cv <- function(data) {\n",
        "  (sd(data) / mean(data)) * 100\n",
        "}\n",
        "\n",
        "cv_custom <- calculate_cv(data)\n",
        "cv_builtin <- (sd_builtin / mean_builtin) * 100\n",
        "\n",
        "cat(\"Custom CV:\", cv_custom, \"%\\n\")\n",
        "cat(\"Built-in CV:\", cv_builtin, \"%\\n\")\n"
      ],
      "metadata": {
        "colab": {
          "base_uri": "https://localhost:8080/"
        },
        "id": "_jinBbEymo1d",
        "outputId": "3312b0b0-a257-4e71-8fed-e3b5c5712955"
      },
      "execution_count": null,
      "outputs": [
        {
          "output_type": "stream",
          "name": "stdout",
          "text": [
            "Custom CV: 102.7412 %\n",
            "Built-in CV: 369.3789 %\n"
          ]
        }
      ]
    },
    {
      "cell_type": "markdown",
      "source": [
        "Program to generate a Scatter Plot.\n",
        "\n"
      ],
      "metadata": {
        "id": "SFoLfrXNmu11"
      }
    },
    {
      "cell_type": "code",
      "source": [
        "x <- c(1, 1.5, 2, 2.5, 3)\n",
        "y <- c(2, 4, 5, 4, 5)\n",
        "\n",
        "plot(x, y, main=\"Scatter Plot\", xlab=\"X\", ylab=\"Y\", col=\"blue\", pch=19)\n"
      ],
      "metadata": {
        "colab": {
          "base_uri": "https://localhost:8080/",
          "height": 437
        },
        "id": "9FYfA9EwmxOU",
        "outputId": "1fa0214a-67de-4613-80bf-d768e3bcd573"
      },
      "execution_count": 1,
      "outputs": [
        {
          "output_type": "display_data",
          "data": {
            "text/plain": [
              "Plot with title “Scatter Plot”"
            ],
            "image/png": "[encoded data removed]"
          },
          "metadata": {
            "image/png": {
              "width": 420,
              "height": 420
            }
          }
        }
      ]
    },
    {
      "cell_type": "markdown",
      "source": [
        "Program to calculate Pearson’s Correlation Coefficient.\n"
      ],
      "metadata": {
        "id": "_E32JHNZm3uu"
      }
    },
    {
      "cell_type": "code",
      "source": [
        "pearson_corr <- cor(x, y, method=\"pearson\")\n",
        "cat(\"Pearson Correlation Coefficient:\", pearson_corr, \"\\n\")\n"
      ],
      "metadata": {
        "colab": {
          "base_uri": "https://localhost:8080/"
        },
        "id": "06h2dsDUmYZG",
        "outputId": "3367f377-52cd-4793-c973-1591973c8f02"
      },
      "execution_count": 2,
      "outputs": [
        {
          "output_type": "stream",
          "name": "stdout",
          "text": [
            "Pearson Correlation Coefficient: 0.7745967 \n"
          ]
        }
      ]
    },
    {
      "cell_type": "markdown",
      "source": [
        "Program to calculate Spearman’s Rank Correlation Coefficient.\n"
      ],
      "metadata": {
        "id": "M53K_Go2mb4n"
      }
    },
    {
      "cell_type": "code",
      "source": [
        "spearman_corr <- cor(x, y, method=\"spearman\")\n",
        "cat(\"Spearman Correlation Coefficient:\", spearman_corr, \"\\n\")\n"
      ],
      "metadata": {
        "colab": {
          "base_uri": "https://localhost:8080/"
        },
        "id": "XqpVpxPrmfoL",
        "outputId": "2fa874f6-cd31-470b-a648-efe776daf081"
      },
      "execution_count": 3,
      "outputs": [
        {
          "output_type": "stream",
          "name": "stdout",
          "text": [
            "Spearman Correlation Coefficient: 0.7378648 \n"
          ]
        }
      ]
    },
    {
      "cell_type": "markdown",
      "source": [
        "Program to calculate regression line y on x.\n"
      ],
      "metadata": {
        "id": "X1kUhFaBmjgN"
      }
    },
    {
      "cell_type": "code",
      "source": [
        "model <- lm(y ~ x)\n",
        "summary(model)\n",
        "\n",
        "# Plot regression line\n",
        "plot(x, y, main=\"Linear Regression\", xlab=\"X\", ylab=\"Y\", col=\"blue\", pch=19)\n",
        "abline(model, col=\"red\")\n"
      ],
      "metadata": {
        "colab": {
          "base_uri": "https://localhost:8080/",
          "height": 729
        },
        "id": "GG7vQBBvmmVM",
        "outputId": "ab75046e-cd9d-4f59-986a-e88c178df8d8"
      },
      "execution_count": 4,
      "outputs": [
        {
          "output_type": "display_data",
          "data": {
            "text/plain": [
              "\n",
              "Call:\n",
              "lm(formula = y ~ x)\n",
              "\n",
              "Residuals:\n",
              "   1    2    3    4    5 \n",
              "-0.8  0.6  1.0 -0.6 -0.2 \n",
              "\n",
              "Coefficients:\n",
              "            Estimate Std. Error t value Pr(>|t|)\n",
              "(Intercept)   1.6000     1.2000   1.333    0.275\n",
              "x             1.2000     0.5657   2.121    0.124\n",
              "\n",
              "Residual standard error: 0.8944 on 3 degrees of freedom\n",
              "Multiple R-squared:    0.6,\tAdjusted R-squared:  0.4667 \n",
              "F-statistic:   4.5 on 1 and 3 DF,  p-value: 0.124\n"
            ]
          },
          "metadata": {}
        },
        {
          "output_type": "display_data",
          "data": {
            "text/plain": [
              "Plot with title “Linear Regression”"
            ],
            "image/png": "[encoded data removed]"
          },
          "metadata": {
            "image/png": {
              "width": 420,
              "height": 420
            }
          }
        }
      ]
    },
    {
      "cell_type": "markdown",
      "source": [
        "Program to calculate regression line y on x.\n"
      ],
      "metadata": {
        "id": "Sbrjwy9UmxkP"
      }
    },
    {
      "cell_type": "code",
      "source": [
        "model <- lm(x~y)\n",
        "summary(model)\n",
        "\n",
        "# Plot regression line\n",
        "plot(x, y, main=\"Linear Regression\", xlab=\"X\", ylab=\"Y\", col=\"blue\", pch=19)\n",
        "abline(model, col=\"red\")\n"
      ],
      "metadata": {
        "colab": {
          "base_uri": "https://localhost:8080/",
          "height": 729
        },
        "id": "9CCgNpvxmmta",
        "outputId": "2d41e3a9-16a4-4bae-d81a-9c7fce0bdc29"
      },
      "execution_count": 5,
      "outputs": [
        {
          "output_type": "display_data",
          "data": {
            "text/plain": [
              "\n",
              "Call:\n",
              "lm(formula = x ~ y)\n",
              "\n",
              "Residuals:\n",
              "         1          2          3          4          5 \n",
              "-5.551e-17 -5.000e-01 -5.000e-01  5.000e-01  5.000e-01 \n",
              "\n",
              "Coefficients:\n",
              "             Estimate Std. Error t value Pr(>|t|)\n",
              "(Intercept) 3.972e-16  9.775e-01   0.000    1.000\n",
              "y           5.000e-01  2.357e-01   2.121    0.124\n",
              "\n",
              "Residual standard error: 0.5774 on 3 degrees of freedom\n",
              "Multiple R-squared:    0.6,\tAdjusted R-squared:  0.4667 \n",
              "F-statistic:   4.5 on 1 and 3 DF,  p-value: 0.124\n"
            ]
          },
          "metadata": {}
        },
        {
          "output_type": "display_data",
          "data": {
            "text/plain": [
              "Plot with title “Linear Regression”"
            ],
            "image/png": "[encoded data removed]"
          },
          "metadata": {
            "image/png": {
              "width": 420,
              "height": 420
            }
          }
        }
      ]
    },
    {
      "cell_type": "markdown",
      "source": [
        "Given a set of data points, fit a linear curve of the form  to the data using the least squares method.\n"
      ],
      "metadata": {
        "id": "gs8Dl4L-my-j"
      }
    },
    {
      "cell_type": "code",
      "source": [
        "# Load necessary library\n",
        "library(ggplot2)\n",
        "\n",
        "# Data\n",
        "x <- c(1, 2, 3, 4, 5)\n",
        "y <- c(2, 4, 5, 4, 5)\n",
        "\n",
        "# Custom Least Squares Calculation\n",
        "n <- length(x)\n",
        "sum_x <- sum(x)\n",
        "sum_y <- sum(y)\n",
        "sum_xy <- sum(x * y)\n",
        "sum_x2 <- sum(x^2)\n",
        "\n",
        "b_manual <- (n * sum_xy - sum_x * sum_y) / (n * sum_x2 - sum_x^2)\n",
        "a_manual <- (sum_y - b_manual * sum_x) / n\n",
        "\n",
        "# Built-in Function\n",
        "linear_model <- lm(y ~ x)\n",
        "a_builtin <- coef(linear_model)[1]\n",
        "b_builtin <- coef(linear_model)[2]\n",
        "\n",
        "cat(\"Manual Linear Equation: y =\", round(a_manual, 2), \"+\", round(b_manual, 2), \"* x\\n\")\n",
        "cat(\"Built-in Linear Equation: y =\", round(a_builtin, 2), \"+\", round(b_builtin, 2), \"* x\\n\")\n",
        "\n",
        "# Plot\n",
        "ggplot(data.frame(x, y), aes(x, y)) +\n",
        "  geom_point(color = \"blue\", size = 3) +\n",
        "  geom_abline(intercept = a_builtin, slope = b_builtin, color = \"red\") +\n",
        "  ggtitle(\"Linear Curve Fitting\") +\n",
        "  theme_minimal()\n"
      ],
      "metadata": {
        "colab": {
          "base_uri": "https://localhost:8080/",
          "height": 473
        },
        "id": "KJRQxvb8mmqQ",
        "outputId": "ac729dac-105b-4886-cf98-6c500af8b58b"
      },
      "execution_count": 6,
      "outputs": [
        {
          "output_type": "stream",
          "name": "stdout",
          "text": [
            "Manual Linear Equation: y = 2.2 + 0.6 * x\n",
            "Built-in Linear Equation: y = 2.2 + 0.6 * x\n"
          ]
        },
        {
          "output_type": "display_data",
          "data": {
            "text/plain": [
              "plot without title"
            ],
            "image/png": "[encoded data removed]"
          },
          "metadata": {
            "image/png": {
              "width": 420,
              "height": 420
            }
          }
        }
      ]
    },
    {
      "cell_type": "markdown",
      "source": [
        "Given a set of data points, fit a quadratic curve of the form .\n"
      ],
      "metadata": {
        "id": "Mosg5SFPnAhM"
      }
    },
    {
      "cell_type": "code",
      "source": [
        "# Data\n",
        "x <- c(1, 2, 3, 4, 5)\n",
        "y <- c(3, 6, 11, 18, 27)\n",
        "\n",
        "# Fit a quadratic model\n",
        "quadratic_model <- lm(y ~ x + I(x^2))\n",
        "\n",
        "# Extract coefficients\n",
        "a <- coef(quadratic_model)[1]\n",
        "b <- coef(quadratic_model)[2]\n",
        "c <- coef(quadratic_model)[3]\n",
        "\n",
        "cat(\"Quadratic Equation: y =\", round(a, 2), \"+\", round(b, 2), \"* x +\", round(c, 2), \"* x^2\\n\")\n",
        "\n",
        "# Plot data and fitted curve\n",
        "ggplot(data.frame(x, y), aes(x, y)) +\n",
        "  geom_point(color = \"blue\", size = 3) +\n",
        "  stat_smooth(method = \"lm\", formula = y ~ poly(x, 2), color = \"red\", se = FALSE) +\n",
        "  ggtitle(\"Quadratic Curve Fitting\") +\n",
        "  theme_minimal()\n"
      ],
      "metadata": {
        "colab": {
          "base_uri": "https://localhost:8080/",
          "height": 455
        },
        "id": "m3txTXSmmmnp",
        "outputId": "8ca59738-8ed3-422b-dbe9-d55fdc5aa878"
      },
      "execution_count": 7,
      "outputs": [
        {
          "output_type": "stream",
          "name": "stdout",
          "text": [
            "Quadratic Equation: y = 2 + 0 * x + 1 * x^2\n"
          ]
        },
        {
          "output_type": "display_data",
          "data": {
            "text/plain": [
              "plot without title"
            ],
            "image/png": "[encoded data removed]"
          },
          "metadata": {
            "image/png": {
              "width": 420,
              "height": 420
            }
          }
        }
      ]
    },
    {
      "cell_type": "markdown",
      "source": [
        "Exponential Curve Fitting\n"
      ],
      "metadata": {
        "id": "WvaFy4YTnCFe"
      }
    },
    {
      "cell_type": "code",
      "source": [
        "# Data\n",
        "x <- c(1, 2, 3, 4, 5)\n",
        "y <- c(2.7, 7.3, 20.1, 54.6, 148.4)\n",
        "\n",
        "# Apply logarithm transformation\n",
        "exp_model <- lm(log(y) ~ x)\n",
        "\n",
        "# Extract coefficients\n",
        "a <- exp(coef(exp_model)[1])\n",
        "b <- coef(exp_model)[2]\n",
        "\n",
        "cat(\"Exponential Equation: y =\", round(a, 2), \"* e^(\", round(b, 2), \"* x)\\n\")\n",
        "\n",
        "# Plot\n",
        "ggplot(data.frame(x, y), aes(x, y)) +\n",
        "  geom_point(color = \"blue\", size = 3) +\n",
        "  geom_line(aes(y = a * exp(b * x)), color = \"red\") +\n",
        "  ggtitle(\"Exponential Curve Fitting\") +\n",
        "  theme_minimal()\n"
      ],
      "metadata": {
        "colab": {
          "base_uri": "https://localhost:8080/",
          "height": 455
        },
        "id": "Wj5o-8wOmmfz",
        "outputId": "39674085-761a-4884-e32c-c6716d259ca9"
      },
      "execution_count": 8,
      "outputs": [
        {
          "output_type": "stream",
          "name": "stdout",
          "text": [
            "Exponential Equation: y = 0.99 * e^( 1 * x)\n"
          ]
        },
        {
          "output_type": "display_data",
          "data": {
            "text/plain": [
              "plot without title"
            ],
            "image/png": "[encoded data removed]"
          },
          "metadata": {
            "image/png": {
              "width": 420,
              "height": 420
            }
          }
        }
      ]
    },
    {
      "cell_type": "markdown",
      "source": [
        "Given a set of data points, fit an exponential curve of the form .\n"
      ],
      "metadata": {
        "id": "8T15dln8nH1J"
      }
    },
    {
      "cell_type": "code",
      "source": [
        "# Data\n",
        "x <- c(1, 2, 3, 4, 5)\n",
        "y <- c(2.7, 7.3, 20.1, 54.6, 148.4)\n",
        "\n",
        "# Apply logarithm transformation\n",
        "exp_model <- lm(log(y) ~ x)\n",
        "\n",
        "# Extract coefficients\n",
        "a <- exp(coef(exp_model)[1])\n",
        "b <- coef(exp_model)[2]\n",
        "\n",
        "cat(\"Exponential Equation: y =\", round(a, 2), \"* e^(\", round(b, 2), \"* x)\\n\")\n",
        "\n",
        "# Plot\n",
        "ggplot(data.frame(x, y), aes(x, y)) +\n",
        "  geom_point(color = \"blue\", size = 3) +\n",
        "  geom_line(aes(y = a * exp(b * x)), color = \"red\") +\n",
        "  ggtitle(\"Exponential Curve Fitting\") +\n",
        "  theme_minimal()\n"
      ],
      "metadata": {
        "colab": {
          "base_uri": "https://localhost:8080/",
          "height": 455
        },
        "id": "bJb0DpjImmcV",
        "outputId": "298bc6ea-ff88-42b9-ba99-97ca0bed541e"
      },
      "execution_count": 9,
      "outputs": [
        {
          "output_type": "stream",
          "name": "stdout",
          "text": [
            "Exponential Equation: y = 0.99 * e^( 1 * x)\n"
          ]
        },
        {
          "output_type": "display_data",
          "data": {
            "text/plain": [
              "plot without title"
            ],
            "image/png": "[encoded data removed]"
          },
          "metadata": {
            "image/png": {
              "width": 420,
              "height": 420
            }
          }
        }
      ]
    },
    {
      "cell_type": "markdown",
      "source": [
        "Power Law Curve Fitting\n"
      ],
      "metadata": {
        "id": "ziVC12wjnO-0"
      }
    },
    {
      "cell_type": "code",
      "source": [
        "# Data\n",
        "x <- c(1, 2, 3, 4, 5)\n",
        "y <- c(2, 4, 8, 16, 32)\n",
        "\n",
        "# Apply log transformation\n",
        "power_model <- lm(log(y) ~ log(x))\n",
        "\n",
        "# Extract coefficients\n",
        "a <- exp(coef(power_model)[1])\n",
        "b <- exp(coef(power_model)[2])\n",
        "\n",
        "cat(\"Power Law Equation: y =\", round(a, 2), \"*\", round(b, 2), \"^ x\\n\")\n",
        "\n",
        "# Plot\n",
        "ggplot(data.frame(x, y), aes(x, y)) +\n",
        "  geom_point(color = \"blue\", size = 3) +\n",
        "  geom_line(aes(y = a * b^x), color = \"red\") +\n",
        "  ggtitle(\"Power Law Curve Fitting\") +\n",
        "  theme_minimal()\n"
      ],
      "metadata": {
        "colab": {
          "base_uri": "https://localhost:8080/",
          "height": 455
        },
        "id": "rEjqog49mmZ5",
        "outputId": "350bc47a-6f93-4f5a-ef74-9649c8de8783"
      },
      "execution_count": 10,
      "outputs": [
        {
          "output_type": "stream",
          "name": "stdout",
          "text": [
            "Power Law Equation: y = 1.6 * 5.36 ^ x\n"
          ]
        },
        {
          "output_type": "display_data",
          "data": {
            "text/plain": [
              "plot without title"
            ],
            "image/png": "[encoded data removed]"
          },
          "metadata": {
            "image/png": {
              "width": 420,
              "height": 420
            }
          }
        }
      ]
    },
    {
      "cell_type": "markdown",
      "source": [
        " Logarithmic Curve Fitting\n"
      ],
      "metadata": {
        "id": "4VGRvoisnU0M"
      }
    },
    {
      "cell_type": "code",
      "source": [
        "# Data\n",
        "x <- c(1, 2, 3, 4, 5)\n",
        "y <- c(1, 4, 9, 16, 25)\n",
        "\n",
        "# Apply log transformation\n",
        "log_model <- lm(log(y) ~ log(x))\n",
        "\n",
        "# Extract coefficients\n",
        "a <- exp(coef(log_model)[1])\n",
        "b <- coef(log_model)[2]\n",
        "\n",
        "cat(\"Logarithmic Equation: y =\", round(a, 2), \"* x^\", round(b, 2), \"\\n\")\n",
        "\n",
        "# Plot\n",
        "ggplot(data.frame(x, y), aes(x, y)) +\n",
        "  geom_point(color = \"blue\", size = 3) +\n",
        "  geom_line(aes(y = a * x^b), color = \"red\") +\n",
        "  ggtitle(\"Logarithmic Curve Fitting\") +\n",
        "  theme_minimal()\n"
      ],
      "metadata": {
        "colab": {
          "base_uri": "https://localhost:8080/",
          "height": 455
        },
        "id": "GJILuVDsnYu4",
        "outputId": "0f19583a-20a6-404e-eb34-ede2b3cad9a6"
      },
      "execution_count": 11,
      "outputs": [
        {
          "output_type": "stream",
          "name": "stdout",
          "text": [
            "Logarithmic Equation: y = 1 * x^ 2 \n"
          ]
        },
        {
          "output_type": "display_data",
          "data": {
            "text/plain": [
              "plot without title"
            ],
            "image/png": "[encoded data removed]"
          },
          "metadata": {
            "image/png": {
              "width": 420,
              "height": 420
            }
          }
        }
      ]
    },
    {
      "cell_type": "code",
      "source": [],
      "metadata": {
        "id": "zX58RePLnZND"
      },
      "execution_count": null,
      "outputs": []
    },
    {
      "cell_type": "code",
      "source": [],
      "metadata": {
        "id": "-wkRI0QMnZJt"
      },
      "execution_count": null,
      "outputs": []
    },
    {
      "cell_type": "code",
      "source": [],
      "metadata": {
        "id": "BAvsm44snZHT"
      },
      "execution_count": null,
      "outputs": []
    },
    {
      "cell_type": "code",
      "source": [],
      "metadata": {
        "id": "QFkx8C7gnY23"
      },
      "execution_count": null,
      "outputs": []
    },
    {
      "cell_type": "code",
      "source": [],
      "metadata": {
        "id": "0UkbCHj1nYzJ"
      },
      "execution_count": null,
      "outputs": []
    }
  ]
}
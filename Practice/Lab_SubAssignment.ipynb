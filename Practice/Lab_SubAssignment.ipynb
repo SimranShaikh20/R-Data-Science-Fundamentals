{
  "nbformat": 4,
  "nbformat_minor": 0,
  "metadata": {
    "colab": {
      "provenance": [],
      "authorship_tag": "ABX9TyND4LV5783rIf2CuLhgIehF",
      "include_colab_link": true
    },
    "kernelspec": {
      "name": "ir",
      "display_name": "R"
    },
    "language_info": {
      "name": "R"
    }
  },
  "cells": [
    {
      "cell_type": "markdown",
      "metadata": {
        "id": "view-in-github",
        "colab_type": "text"
      },
      "source": [
        "<a href=\"https://colab.research.google.com/github/SimranShaikh20/R_language_Assignments/blob/main/Lab_SubAssignment.ipynb\" target=\"_parent\"><img src=\"https://colab.research.google.com/assets/colab-badge.svg\" alt=\"Open In Colab\"/></a>"
      ]
    },
    {
      "cell_type": "markdown",
      "source": [
        "Even and odd program\n"
      ],
      "metadata": {
        "id": "9dXo68ess8im"
      }
    },
    {
      "cell_type": "code",
      "execution_count": 7,
      "metadata": {
        "colab": {
          "base_uri": "https://localhost:8080/"
        },
        "id": "C4jF0dvQswcE",
        "outputId": "2b1803bd-fe0e-46ce-a07a-a71cc9b01e37"
      },
      "outputs": [
        {
          "output_type": "stream",
          "name": "stdout",
          "text": [
            "Enter the first number (num1): 20\n",
            "[1] \"20 is even number\"\n"
          ]
        }
      ],
      "source": [
        "num1 <- as.numeric(readline(prompt = \"Enter the first number (num1): \"))\n",
        "\n",
        "\n",
        "if (num1%%2==0){\n",
        "    print(paste(num1, \"is even number\"))\n",
        "}else{\n",
        "    print(paste(num1, \"is odd number\"))\n",
        "}\n"
      ]
    },
    {
      "cell_type": "markdown",
      "source": [
        "Palindrom  Number Checking"
      ],
      "metadata": {
        "id": "Xu9tMKpRvSHM"
      }
    },
    {
      "cell_type": "code",
      "source": [
        "# Take input from the user\n",
        "num <- as.numeric(readline(prompt = \"Enter a number to check: \"))\n",
        "\n",
        "temp <- num\n",
        "\n",
        "reverse_num <- 0\n",
        "\n",
        "while (num > 0) {\n",
        "    reverse_num <- reverse_num * 10 + num %% 10\n",
        "    num <- num %/% 10\n",
        "}\n",
        "\n",
        "if (reverse_num == temp) {\n",
        "    print(\"The number is a palindrome.\")\n",
        "} else {\n",
        "    print(\"The number is not a palindrome.\")\n",
        "}\n"
      ],
      "metadata": {
        "colab": {
          "base_uri": "https://localhost:8080/"
        },
        "id": "PgXzQJ6mvRTs",
        "outputId": "8e013992-b69a-443e-81ff-3389815e4a37"
      },
      "execution_count": 9,
      "outputs": [
        {
          "output_type": "stream",
          "name": "stdout",
          "text": [
            "Enter a number to check: 221\n",
            "[1] \"The number is not a palindrome.\"\n"
          ]
        }
      ]
    }
  ]
}
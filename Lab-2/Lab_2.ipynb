{
  "nbformat": 4,
  "nbformat_minor": 0,
  "metadata": {
    "colab": {
      "provenance": [],
      "authorship_tag": "ABX9TyNbWt4DCXfSZ5aH7riOnyLW",
      "include_colab_link": true
    },
    "kernelspec": {
      "name": "ir",
      "display_name": "R"
    },
    "language_info": {
      "name": "R"
    }
  },
  "cells": [
    {
      "cell_type": "markdown",
      "metadata": {
        "id": "view-in-github",
        "colab_type": "text"
      },
      "source": [
        "<a href=\"https://colab.research.google.com/github/SimranShaikh20/R_language_Assignments/blob/main/Lab_2.ipynb\" target=\"_parent\"><img src=\"https://colab.research.google.com/assets/colab-badge.svg\" alt=\"Open In Colab\"/></a>"
      ]
    },
    {
      "cell_type": "markdown",
      "source": [
        "# To perform and print addition, subtraction, division and multiplication of two numbers.\n"
      ],
      "metadata": {
        "id": "vlseW6-s8Otp"
      }
    },
    {
      "cell_type": "code",
      "execution_count": 1,
      "metadata": {
        "colab": {
          "base_uri": "https://localhost:8080/"
        },
        "id": "8vonNoSZ76pA",
        "outputId": "643e5026-223b-456b-b700-90bab2f56006"
      },
      "outputs": [
        {
          "output_type": "stream",
          "name": "stdout",
          "text": [
            "Enter the first number (num1): 12\n",
            "Enter the second number (num2): 21\n",
            "[1] \"1] Addition\"\n",
            "[1] \"2] Subtraction\"\n",
            "[1] \"3] Multiplication\"\n",
            "[1] \"4] Division\"\n",
            "Enter which operation you want to perform: 3\n",
            "[1] \"Multiplication:  252\"\n"
          ]
        }
      ],
      "source": [
        "# Take input from the user\n",
        "num1 <- as.numeric(readline(prompt = \"Enter the first number (num1): \"))\n",
        "num2 <- as.numeric(readline(prompt = \"Enter the second number (num2): \"))\n",
        "\n",
        "# Display operation choices\n",
        "print(\"1] Addition\")\n",
        "print(\"2] Subtraction\")\n",
        "print(\"3] Multiplication\")\n",
        "print(\"4] Division\")\n",
        "\n",
        "# Take the user's choice for the operation\n",
        "choice <- as.numeric(readline(prompt = \"Enter which operation you want to perform: \"))\n",
        "\n",
        "# Perform the chosen arithmetic operation\n",
        "if (choice == 1) {\n",
        "  add <- num1 + num2\n",
        "  print(paste(\"Addition: \", add))\n",
        "} else if (choice == 2) {\n",
        "  subtract <- num1 - num2\n",
        "  print(paste(\"Subtraction: \", subtract))\n",
        "} else if (choice == 3) {\n",
        "  multiply <- num1 * num2\n",
        "  print(paste(\"Multiplication: \", multiply))\n",
        "} else if (choice == 4) {\n",
        "    divide <- num1 / num2\n",
        "    print(paste(\"Division: \", divide))\n",
        "} else {\n",
        "  print(\"Invalid choice! Please enter a valid operation number (1-4).\")\n",
        "}"
      ]
    },
    {
      "cell_type": "markdown",
      "source": [
        "# To enter the temperature in Celsius and convert it to Fahrenheit and vice versa.\n"
      ],
      "metadata": {
        "id": "8CFSs_fd-7fQ"
      }
    },
    {
      "cell_type": "code",
      "source": [
        "celsius_to_fahrenheit <- function(c) {\n",
        "  return((c * 9/5) + 32)\n",
        "}\n",
        "\n",
        "fahrenheit_to_celsius <- function(f) {\n",
        "  return((f - 32) * 5/9)\n",
        "}\n",
        "\n",
        "celsius <- as.numeric(readline(prompt = \"Enter Celsius: \"))\n",
        "fahrenheit <- celsius_to_fahrenheit(celsius)\n",
        "cat(celsius, \"Celsius =\", fahrenheit, \"Fahrenheit\\n\")\n",
        "fahrenheit <- as.numeric(readline(prompt = \"Enter Frehenhit : \"))\n",
        "celsius <- fahrenheit_to_celsius(fahrenheit)\n",
        "cat(fahrenheit, \"Fahrenheit =\", celsius, \"Celsius\\n\")\n"
      ],
      "metadata": {
        "colab": {
          "base_uri": "https://localhost:8080/"
        },
        "id": "2N32XUpU9rz7",
        "outputId": "6fbcdb70-4c4d-4fff-925b-0d112ab78672"
      },
      "execution_count": 4,
      "outputs": [
        {
          "output_type": "stream",
          "name": "stdout",
          "text": [
            "Enter Celsius: 25\n",
            "25 Celsius = 77 Fahrenheit\n",
            "Enter Frehenhit : 77\n",
            "77 Fahrenheit = 25 Celsius\n"
          ]
        }
      ]
    },
    {
      "cell_type": "markdown",
      "source": [
        "\n",
        "# To enter the amount in rupees and convert it to dollar and vice versa.\n"
      ],
      "metadata": {
        "id": "nxMZjn0f_NHL"
      }
    },
    {
      "cell_type": "code",
      "source": [
        "rupees_to_dollars <- function(inr) {\n",
        "  return(inr / 83)\n",
        "}\n",
        "dollars_to_rupees <- function(usd) {\n",
        "  return(usd * 83)\n",
        "}\n",
        "\n",
        "rupees <- as.numeric(readline(prompt = \"Enter Rupees : \"))\n",
        "dollars <- rupees_to_dollars(rupees)\n",
        "cat(rupees, \"Rupees =\", dollars, \"Dollars\\n\")\n",
        "\n",
        "dollars <-  as.numeric(readline(prompt = \"Enter Dollers : \"))\n",
        "rupees <- dollars_to_rupees(dollars)\n",
        "cat(dollars, \"Dollars =\", rupees, \"Rupees\\n\")"
      ],
      "metadata": {
        "colab": {
          "base_uri": "https://localhost:8080/"
        },
        "id": "Nso90sFv--Ik",
        "outputId": "0e71bd05-9b10-432f-d83e-aa78fe5b0eb5"
      },
      "execution_count": 5,
      "outputs": [
        {
          "output_type": "stream",
          "name": "stdout",
          "text": [
            "Enter Rupees : 200\n",
            "200 Rupees = 2.409639 Dollars\n",
            "Enter Dollers : 70\n",
            "70 Dollars = 5810 Rupees\n"
          ]
        }
      ]
    },
    {
      "cell_type": "markdown",
      "source": [
        "# To swap the values of two variables with using third variable.\n"
      ],
      "metadata": {
        "id": "DTXYtQNSAhg9"
      }
    },
    {
      "cell_type": "code",
      "source": [
        "x <- as.numeric(readline(prompt = \"Enter value for x : \"))\n",
        "y <- as.numeric(readline(prompt = \"Enter value for y  : \"))\n",
        "temp <- x\n",
        "x <- y\n",
        "y <- temp\n",
        "cat(\"After swapping using third variable: x =\", x, \"y =\", y, \"\\n\")"
      ],
      "metadata": {
        "colab": {
          "base_uri": "https://localhost:8080/"
        },
        "id": "jx9mQERX_teY",
        "outputId": "25f7ab45-b361-4fcd-a523-0b0c85baf65e"
      },
      "execution_count": 6,
      "outputs": [
        {
          "output_type": "stream",
          "name": "stdout",
          "text": [
            "Enter value for x : 12\n",
            "Enter value for y  : 21\n",
            "After swapping using third variable: x = 21 y = 12 \n"
          ]
        }
      ]
    },
    {
      "cell_type": "markdown",
      "source": [
        "# To swap the values of two variables without using third variable.\n",
        "\n"
      ],
      "metadata": {
        "id": "DAWAspB1A8gt"
      }
    },
    {
      "cell_type": "code",
      "source": [
        "x <- as.numeric(readline(prompt = \"Enter value for x : \"))\n",
        "y <- as.numeric(readline(prompt = \"Enter value for y  : \"))\n",
        "\n",
        "x <- bitwXor(x, y)\n",
        "y <- bitwXor(y, x)\n",
        "x <- bitwXor(x, y)\n",
        "\n",
        "cat(\"After swapping without using third variable: x =\", x, \"y =\", y, \"\\n\")\n"
      ],
      "metadata": {
        "colab": {
          "base_uri": "https://localhost:8080/"
        },
        "id": "YnAKJw_tBAcX",
        "outputId": "e937148e-b30e-4fa8-9097-738df0d837e8"
      },
      "execution_count": 8,
      "outputs": [
        {
          "output_type": "stream",
          "name": "stdout",
          "text": [
            "Enter value for x : 12\n",
            "Enter value for y  : 28\n",
            "After swapping without using third variable: x = 28 y = 12 \n"
          ]
        }
      ]
    },
    {
      "cell_type": "markdown",
      "source": [
        "# To calculate and display the volume of a CUBE having its height (h=10cm), width (w=12cm) and depth (8cm).\n"
      ],
      "metadata": {
        "id": "DGFZncnoB7zU"
      }
    },
    {
      "cell_type": "code",
      "source": [
        "h <- as.numeric(readline(prompt = \"Enter height : \"))\n",
        "w <- as.numeric(readline(prompt = \"Enter width: \"))\n",
        "d <- as.numeric(readline(prompt = \"Enter depth : \"))\n",
        "volume <- h * w * d\n",
        "cat(\"Volume of the cube:\", volume, \"cubic cm\\n\")"
      ],
      "metadata": {
        "colab": {
          "base_uri": "https://localhost:8080/"
        },
        "id": "n85SeS69B-O9",
        "outputId": "397c408d-e469-4219-e21a-67fe13302313"
      },
      "execution_count": 9,
      "outputs": [
        {
          "output_type": "stream",
          "name": "stdout",
          "text": [
            "Enter height : 2\n",
            "Enter width: 1\n",
            "Enter depth : 4\n",
            "Volume of the cube: 8 cubic cm\n"
          ]
        }
      ]
    },
    {
      "cell_type": "code",
      "source": [
        "simple_interest <- function(price, rate, time) {\n",
        "  return((price * rate * time) / 100)\n",
        "}\n",
        "\n",
        "price <- as.numeric(readline(prompt = \"Enter  Principal amount : \"))\n",
        "rate <- as.numeric(readline(prompt = \"Enter Rate of interest per annum  : \"))\n",
        "time <- as.numeric(readline(prompt = \"Enter Time period : \"))\n",
        "SI <- simple_interest(price, rate, time)\n",
        "cat(\"Simple Interest:\", SI, \"\\n\")"
      ],
      "metadata": {
        "colab": {
          "base_uri": "https://localhost:8080/"
        },
        "id": "dIU67quUCgcR",
        "outputId": "0e09fdd2-59ef-482a-83dd-0918425411b8"
      },
      "execution_count": 13,
      "outputs": [
        {
          "output_type": "stream",
          "name": "stdout",
          "text": [
            "Enter  Principal amount : 10000\n",
            "Enter Rate of interest per annum  : 12\n",
            "Enter Time period : 24\n",
            "Simple Interest: 28800 \n"
          ]
        }
      ]
    }
  ]
}
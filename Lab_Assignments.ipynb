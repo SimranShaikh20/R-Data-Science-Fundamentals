{
  "cells": [
    {
      "cell_type": "markdown",
      "metadata": {
        "id": "view-in-github",
        "colab_type": "text"
      },
      "source": [
        "<a href=\"https://colab.research.google.com/github/SimranShaikh20/R_language_Assignments/blob/main/Lab_Assignments.ipynb\" target=\"_parent\"><img src=\"https://colab.research.google.com/assets/colab-badge.svg\" alt=\"Open In Colab\"/></a>"
      ]
    },
    {
      "cell_type": "code",
      "source": [
        "!apt-get install r-base -y\n"
      ],
      "metadata": {
        "colab": {
          "base_uri": "https://localhost:8080/"
        },
        "id": "E-t3H-VNPUc6",
        "outputId": "ee338e18-d33f-42a6-92af-d40d8085f41e"
      },
      "execution_count": null,
      "outputs": [
        {
          "output_type": "stream",
          "name": "stdout",
          "text": [
            "Reading package lists... Done\n",
            "Building dependency tree... Done\n",
            "Reading state information... Done\n",
            "r-base is already the newest version (4.4.2-1.2204.0).\n",
            "0 upgraded, 0 newly installed, 0 to remove and 49 not upgraded.\n"
          ]
        }
      ]
    },
    {
      "cell_type": "code",
      "source": [
        "!R -e \"IRkernel::installspec(user = FALSE)\"\n"
      ],
      "metadata": {
        "colab": {
          "base_uri": "https://localhost:8080/"
        },
        "id": "H4gcyqQuPaGg",
        "outputId": "c4f78ebc-a7f5-4d68-e7c0-3508245bb827"
      },
      "execution_count": null,
      "outputs": [
        {
          "output_type": "stream",
          "name": "stdout",
          "text": [
            "\n",
            "R version 4.4.2 (2024-10-31) -- \"Pile of Leaves\"\n",
            "Copyright (C) 2024 The R Foundation for Statistical Computing\n",
            "Platform: x86_64-pc-linux-gnu\n",
            "\n",
            "R is free software and comes with ABSOLUTELY NO WARRANTY.\n",
            "You are welcome to redistribute it under certain conditions.\n",
            "Type 'license()' or 'licence()' for distribution details.\n",
            "\n",
            "  Natural language support but running in an English locale\n",
            "\n",
            "R is a collaborative project with many contributors.\n",
            "Type 'contributors()' for more information and\n",
            "'citation()' on how to cite R or R packages in publications.\n",
            "\n",
            "Type 'demo()' for some demos, 'help()' for on-line help, or\n",
            "'help.start()' for an HTML browser interface to help.\n",
            "Type 'q()' to quit R.\n",
            "\n",
            "> IRkernel::installspec(user = FALSE)\n",
            "\u001b[?25h> \n",
            "> \n",
            "\u001b[?25h"
          ]
        }
      ]
    },
    {
      "cell_type": "code",
      "source": [
        "# Take input from the user\n",
        "num1 <- as.numeric(readline(prompt = \"Enter the first number (num1): \"))\n",
        "num2 <- as.numeric(readline(prompt = \"Enter the second number (num2): \"))\n",
        "\n",
        "# Display operation choices\n",
        "print(\"1] Addition\")\n",
        "print(\"2] Subtraction\")\n",
        "print(\"3] Multiplication\")\n",
        "print(\"4] Division\")\n",
        "\n",
        "# Take the user's choice for the operation\n",
        "choice <- as.numeric(readline(prompt = \"Enter which operation you want to perform: \"))\n",
        "\n",
        "# Perform the chosen arithmetic operation\n",
        "if (choice == 1) {\n",
        "  add <- num1 + num2\n",
        "  print(paste(\"Addition: \", add))\n",
        "} else if (choice == 2) {\n",
        "  subtract <- num1 - num2\n",
        "  print(paste(\"Subtraction: \", subtract))\n",
        "} else if (choice == 3) {\n",
        "  multiply <- num1 * num2\n",
        "  print(paste(\"Multiplication: \", multiply))\n",
        "} else if (choice == 4) {\n",
        "    divide <- num1 / num2\n",
        "    print(paste(\"Division: \", divide))\n",
        "} else {\n",
        "  print(\"Invalid choice! Please enter a valid operation number (1-4).\")\n",
        "}\n",
        "\n"
      ],
      "metadata": {
        "id": "olmQgZrlYE-B",
        "colab": {
          "base_uri": "https://localhost:8080/"
        },
        "outputId": "c9cbb661-01e8-4d56-c780-c43e447403fa"
      },
      "execution_count": null,
      "outputs": [
        {
          "output_type": "stream",
          "name": "stdout",
          "text": [
            "Enter the first number (num1): 12\n",
            "Enter the second number (num2): 9\n",
            "[1] \"1] Addition\"\n",
            "[1] \"2] Subtraction\"\n",
            "[1] \"3] Multiplication\"\n",
            "[1] \"4] Division\"\n",
            "Enter which operation you want to perform: 2\n",
            "[1] \"Subtraction:  3\"\n"
          ]
        }
      ]
    },
    {
      "cell_type": "code",
      "source": [
        "\n",
        "power <- 8^2\n",
        "logarithm <- log2(256)  # Logarithm base 2\n",
        "sqrt_val <- sqrt(121)   # Square root\n",
        "print(paste(\"Power :\",power))\n",
        "print(paste(\"Log value for 256:\",logarithm))\n",
        "print(paste(\"Root value of 121 : \",sqrt_val))"
      ],
      "metadata": {
        "colab": {
          "base_uri": "https://localhost:8080/"
        },
        "id": "Cziaro-HT02H",
        "outputId": "45a343c3-247a-4bb7-f240-e5c4466d0622"
      },
      "execution_count": null,
      "outputs": [
        {
          "output_type": "stream",
          "name": "stdout",
          "text": [
            "[1] \"Power : 64\"\n",
            "[1] \"Log value for 256: 8\"\n",
            "[1] \"Root value of 121 :  11\"\n"
          ]
        }
      ]
    },
    {
      "cell_type": "code",
      "source": [
        "\n",
        "# Sine, cosine, tangent of 30°, 45°, and 60° (converted to radians)\n",
        "sine_30 <- sin(pi * 30 / 180)\n",
        "cosine_30 <- cos(pi * 30 / 180)\n",
        "tangent_30 <- tan(pi * 30 / 180)\n",
        "\n",
        "sine_45 <- sin(pi * 45 / 180)\n",
        "cosine_45 <- cos(pi * 45 / 180)\n",
        "tangent_45 <- tan(pi * 45 / 180)\n",
        "\n",
        "sine_60 <- sin(pi * 60 / 180)\n",
        "cosine_60 <- cos(pi * 60 / 180)\n",
        "tangent_60 <- tan(pi * 60 / 180)\n",
        "print(\"--------------------------------\")\n",
        "print(paste(\"Sine of 30°:\", sine_30))\n",
        "print(paste(\"Cosine of 30°:\", cosine_30))\n",
        "print(paste(\"Tangent of 30°:\", tangent_30))\n",
        "print(\"--------------------------------\")\n",
        "print(paste(\"Sine of 45°:\", sine_45))\n",
        "print(paste(\"Cosine of 45°:\", cosine_45))\n",
        "print(paste(\"Tangent of 45°:\", tangent_45))\n",
        "print(\"--------------------------------\")\n",
        "print(paste(\"Sine of 60°:\", sine_60))\n",
        "print(paste(\"Cosine of 60°:\", cosine_60))\n",
        "print(paste(\"Tangent of 60°:\", tangent_60))\n",
        "\n"
      ],
      "metadata": {
        "colab": {
          "base_uri": "https://localhost:8080/"
        },
        "id": "U_h62npCT0ye",
        "outputId": "af8bf020-635e-464e-bb70-71816135f12a"
      },
      "execution_count": null,
      "outputs": [
        {
          "output_type": "stream",
          "name": "stdout",
          "text": [
            "[1] \"--------------------------------\"\n",
            "[1] \"Sine of 30°: 0.5\"\n",
            "[1] \"Cosine of 30°: 0.866025403784439\"\n",
            "[1] \"Tangent of 30°: 0.577350269189626\"\n",
            "[1] \"--------------------------------\"\n",
            "[1] \"Sine of 45°: 0.707106781186547\"\n",
            "[1] \"Cosine of 45°: 0.707106781186548\"\n",
            "[1] \"Tangent of 45°: 1\"\n",
            "[1] \"--------------------------------\"\n",
            "[1] \"Sine of 60°: 0.866025403784439\"\n",
            "[1] \"Cosine of 60°: 0.5\"\n",
            "[1] \"Tangent of 60°: 1.73205080756888\"\n"
          ]
        }
      ]
    },
    {
      "cell_type": "code",
      "source": [
        "# Variable Asssignents\n",
        "x<-50\n",
        "y<-30\n",
        "print(paste(\"x+y = \",x+y))\n",
        "print(paste(\"x-y = \",x-y))\n",
        "print(paste(\"x*y = \",x*y))\n",
        "print(paste(\"x/y = \",x/y))\n",
        "print(paste(\"x^2 = \",x^2))\n",
        "print(paste(\"y^2 = \",y^2))"
      ],
      "metadata": {
        "colab": {
          "base_uri": "https://localhost:8080/"
        },
        "id": "_vwkztdgT0aM",
        "outputId": "d853f2ea-0831-405c-e20a-49b1b173cebc"
      },
      "execution_count": null,
      "outputs": [
        {
          "output_type": "stream",
          "name": "stdout",
          "text": [
            "[1] \"x+y =  80\"\n",
            "[1] \"x-y =  20\"\n",
            "[1] \"x*y =  1500\"\n",
            "[1] \"x/y =  1.66666666666667\"\n",
            "[1] \"x^2 =  2500\"\n",
            "[1] \"y^2 =  900\"\n"
          ]
        }
      ]
    },
    {
      "cell_type": "code",
      "source": [
        "z<-100\n",
        "print(paste(\"Expotential Value : \",exp(z)))\n",
        "print(paste(\"Square  Value : \",sqrt(z)))"
      ],
      "metadata": {
        "colab": {
          "base_uri": "https://localhost:8080/"
        },
        "id": "_ktYkLYxWRwX",
        "outputId": "e9e1f4d6-6b09-40c4-e962-c8c6e2efba14"
      },
      "execution_count": null,
      "outputs": [
        {
          "output_type": "stream",
          "name": "stdout",
          "text": [
            "[1] \"Expotential Value :  2.68811714181614e+43\"\n",
            "[1] \"Square  Value :  10\"\n"
          ]
        }
      ]
    },
    {
      "cell_type": "markdown",
      "source": [],
      "metadata": {
        "id": "6hu81ALAWvx7"
      }
    },
    {
      "cell_type": "code",
      "source": [
        "#Check Type of Data\n",
        "num=10\n",
        "str=\"Simran Shaikh\"\n",
        "flag= TRUE\n",
        "print(\"--Using Class method-----\")\n",
        "print(class(num))\n",
        "print(class(str))\n",
        "print(class(flag))\n",
        "print(\"-------------------\")\n",
        "print(\"--Using typeof method-----\")\n",
        "print(typeof(num))\n",
        "print(typeof(str))\n",
        "print(typeof(flag))\n",
        "print(\"-------------------\")\n"
      ],
      "metadata": {
        "colab": {
          "base_uri": "https://localhost:8080/"
        },
        "id": "SGsvwrVuSHfI",
        "outputId": "342440e7-ed4f-4354-ddbc-810bcce06eab"
      },
      "execution_count": null,
      "outputs": [
        {
          "output_type": "stream",
          "name": "stdout",
          "text": [
            "[1] \"--Using Class method-----\"\n",
            "[1] \"numeric\"\n",
            "[1] \"character\"\n",
            "[1] \"logical\"\n",
            "[1] \"-------------------\"\n",
            "[1] \"--Using typeof method-----\"\n",
            "[1] \"double\"\n",
            "[1] \"character\"\n",
            "[1] \"logical\"\n",
            "[1] \"-------------------\"\n"
          ]
        }
      ]
    },
    {
      "cell_type": "code",
      "source": [
        "#Math function\n",
        "print(paste(\"Absolute value of -15:\", abs(-15)))\n",
        "print(paste(\"Round 3.567 to 2 decimal places:\", round(3.567, 2)))\n",
        "print(paste(\"Ceiling of 4.2:\", ceiling(4.2)))\n",
        "print(paste(\"Floor of 4.8:\", floor(4.8)))"
      ],
      "metadata": {
        "colab": {
          "base_uri": "https://localhost:8080/"
        },
        "id": "T_UVUqS0jVLO",
        "outputId": "6092cb3e-d494-47ca-9daf-104bb0d73fdd"
      },
      "execution_count": 1,
      "outputs": [
        {
          "output_type": "stream",
          "name": "stdout",
          "text": [
            "[1] \"Absolute value of -15: 15\"\n",
            "[1] \"Round 3.567 to 2 decimal places: 3.57\"\n",
            "[1] \"Ceiling of 4.2: 5\"\n",
            "[1] \"Floor of 4.8: 4\"\n"
          ]
        }
      ]
    },
    {
      "cell_type": "code",
      "source": [
        "# Statistical Function\n",
        "nums <- c(10, 20, 30, 40, 50)\n",
        "print(paste(\"Mean:\", mean(nums)))\n",
        "print(paste(\"Median:\", median(nums)))\n",
        "print(paste(\"Sum:\", sum(nums)))\n",
        "print(paste(\"Standard deviation:\", sd(nums)))"
      ],
      "metadata": {
        "colab": {
          "base_uri": "https://localhost:8080/"
        },
        "id": "B-BPoTTvjVJc",
        "outputId": "f2cbd6f0-7a08-43f7-ed5f-0026ffdf7a0b"
      },
      "execution_count": 2,
      "outputs": [
        {
          "output_type": "stream",
          "name": "stdout",
          "text": [
            "[1] \"Mean: 30\"\n",
            "[1] \"Median: 30\"\n",
            "[1] \"Sum: 150\"\n",
            "[1] \"Standard deviation: 15.8113883008419\"\n"
          ]
        }
      ]
    },
    {
      "cell_type": "code",
      "source": [
        " # Seqeunce Number Checking\n",
        "print(\"Sequence from 1 to 89:\")\n",
        "print(seq(1, 89, by = 2))\n",
        "print(\"Repeat 2 three times:\")\n",
        "print(rep(2, 13))"
      ],
      "metadata": {
        "colab": {
          "base_uri": "https://localhost:8080/"
        },
        "id": "2dhIgeVxjVHf",
        "outputId": "cd7650d6-9d06-4aa8-a4dc-10f660047cfb"
      },
      "execution_count": 4,
      "outputs": [
        {
          "output_type": "stream",
          "name": "stdout",
          "text": [
            "[1] \"Sequence from 1 to 89:\"\n",
            " [1]  1  3  5  7  9 11 13 15 17 19 21 23 25 27 29 31 33 35 37 39 41 43 45 47 49\n",
            "[26] 51 53 55 57 59 61 63 65 67 69 71 73 75 77 79 81 83 85 87 89\n",
            "[1] \"Repeat 2 three times:\"\n",
            " [1] 2 2 2 2 2 2 2 2 2 2 2 2 2\n"
          ]
        }
      ]
    },
    {
      "cell_type": "code",
      "source": [
        "# String function\n",
        "str<-\"Learning R is important for data science career.\"\n",
        "print(paste(\"Upper Case :\",toupper(str)))\n",
        "print(paste(\"Lower Case :\",tolower(str)))\n",
        "print(paste(\"Number of character :\",nchar(str)))"
      ],
      "metadata": {
        "colab": {
          "base_uri": "https://localhost:8080/"
        },
        "id": "4wO9kVisjVF8",
        "outputId": "cecb5032-1d5b-4b68-c13e-64c79a3c6fb4"
      },
      "execution_count": 6,
      "outputs": [
        {
          "output_type": "stream",
          "name": "stdout",
          "text": [
            "[1] \"Upper Case : LEARNING R IS IMPORTANT FOR DATA SCIENCE CAREER.\"\n",
            "[1] \"Lower Case : learning r is important for data science career.\"\n",
            "[1] \"Number of character : 48\"\n"
          ]
        }
      ]
    },
    {
      "cell_type": "code",
      "source": [
        "# Manipulation on Vector data structure\n",
        "data <- 1:20\n",
        "print(data)\n",
        "new_data<-data+3\n",
        "print(paste(\"New Data after added 3 :\",new_data))\n",
        "print(paste(\"5th element:\", data[5]))\n",
        "print(paste(\"10th element:\", data[10]))\n",
        "print(paste(\"Last element:\", data[length(data)]))\n",
        "print(paste(\"Sum of vector:\", sum(data)))\n",
        "print(paste(\"Mean of vector:\", mean(data)))\n",
        "print(paste(\"Length of vector:\", length(data)))"
      ],
      "metadata": {
        "colab": {
          "base_uri": "https://localhost:8080/"
        },
        "id": "DAWVlhaVjVD8",
        "outputId": "29876137-5078-4b66-9391-4e17b045ca46"
      },
      "execution_count": 9,
      "outputs": [
        {
          "output_type": "stream",
          "name": "stdout",
          "text": [
            " [1]  1  2  3  4  5  6  7  8  9 10 11 12 13 14 15 16 17 18 19 20\n",
            " [1] \"New Data after added 3 : 4\"  \"New Data after added 3 : 5\" \n",
            " [3] \"New Data after added 3 : 6\"  \"New Data after added 3 : 7\" \n",
            " [5] \"New Data after added 3 : 8\"  \"New Data after added 3 : 9\" \n",
            " [7] \"New Data after added 3 : 10\" \"New Data after added 3 : 11\"\n",
            " [9] \"New Data after added 3 : 12\" \"New Data after added 3 : 13\"\n",
            "[11] \"New Data after added 3 : 14\" \"New Data after added 3 : 15\"\n",
            "[13] \"New Data after added 3 : 16\" \"New Data after added 3 : 17\"\n",
            "[15] \"New Data after added 3 : 18\" \"New Data after added 3 : 19\"\n",
            "[17] \"New Data after added 3 : 20\" \"New Data after added 3 : 21\"\n",
            "[19] \"New Data after added 3 : 22\" \"New Data after added 3 : 23\"\n",
            "[1] \"5th element: 5\"\n",
            "[1] \"10th element: 10\"\n",
            "[1] \"Last element: 20\"\n",
            "[1] \"Sum of vector: 210\"\n",
            "[1] \"Mean of vector: 10.5\"\n",
            "[1] \"Length of vector: 20\"\n"
          ]
        }
      ]
    },
    {
      "cell_type": "code",
      "source": [
        "# Creating a matrix with exactly 9 elements (100:108)\n",
        "mat <- matrix(100:108, nrow = 3, ncol = 3)\n",
        "\n",
        "print(paste(\"Second Row  :\", mat[2,], collapse = \" \"))\n",
        "print(paste(\"First column :\", mat[,1], collapse = \" \"))\n",
        "print(paste(\"Third Row and Third column :\", mat[3, 3]))\n",
        "print(paste(\"Sum of all elements :\", sum(mat)))\n"
      ],
      "metadata": {
        "colab": {
          "base_uri": "https://localhost:8080/"
        },
        "id": "tKww6w80jU_M",
        "outputId": "530267c5-ee98-4af7-ec8a-6717ef063e16"
      },
      "execution_count": 13,
      "outputs": [
        {
          "output_type": "stream",
          "name": "stdout",
          "text": [
            "[1] \"Second Row  : 101 Second Row  : 104 Second Row  : 107\"\n",
            "[1] \"First column : 100 First column : 101 First column : 102\"\n",
            "[1] \"Third Row and Third column : 108\"\n",
            "[1] \"Sum of all elements : 936\"\n"
          ]
        }
      ]
    },
    {
      "cell_type": "code",
      "source": [
        "# List Operation\n",
        "student_data <- list(\n",
        "  student_name = c(\"Simran\", \"Nazneen\", \"Riya\", \"Niraj\", \"Abrar\"),\n",
        "  student_id = c(1, 2, 3, 4, 5),\n",
        "  cgpa = c(8.6, 7.6, 6.6, 8.1, 9.8)\n",
        ")\n",
        "print(paste(\"Student Names:\", paste(student_data$student_name, collapse = \", \")))\n",
        "print(paste(\"Student ID numbers:\", paste(student_data$student_id, collapse = \", \")))\n",
        "print(paste(\"Marks (CGPA):\", paste(student_data$cgpa, collapse = \", \")))\n"
      ],
      "metadata": {
        "colab": {
          "base_uri": "https://localhost:8080/"
        },
        "id": "uBDe8op0r90B",
        "outputId": "76504452-1514-42d5-b5a4-6f66c4103345"
      },
      "execution_count": 18,
      "outputs": [
        {
          "output_type": "stream",
          "name": "stdout",
          "text": [
            "[1] \"Student Names: Simran, Nazneen, Riya, Niraj, Abrar\"\n",
            "[1] \"Student ID numbers: 1, 2, 3, 4, 5\"\n",
            "[1] \"Marks (CGPA): 8.6, 7.6, 6.6, 8.1, 9.8\"\n"
          ]
        }
      ]
    },
    {
      "cell_type": "code",
      "source": [
        "student_data <- list(\n",
        "  student_name = c(\"Simran\", \"Nazneen\", \"Riya\", \"Niraj\", \"Abrar\"),\n",
        "  student_id = 1:5,\n",
        "   Course = c(\"Data Science\", \"AI\", \"Cybersecurity\", \"AI\", \"Data Science\"),\n",
        "    Marks = c(85, 92, 78, 88, 95)\n",
        ")\n",
        "student_data <- data.frame(student_data)\n",
        "\n",
        "print(\"Students in AI course:\")\n",
        "print(student_data[student_data$Course == \"AI\", ])\n",
        "print(\"---------------------------------------------------------\")\n",
        "print(\"Students with marks greater than 80:\")\n",
        "print(student_data[student_data$Marks > 80, ])\n",
        "print(\"---------------------------------------------------------\")\n",
        "student_data$Programming_Language <- c(\"R\", \"Python\", \"Java\", \"R\", \"Python\")\n",
        "print(\"Updated data frame:\")\n",
        "print(student_data)"
      ],
      "metadata": {
        "colab": {
          "base_uri": "https://localhost:8080/"
        },
        "id": "NPZ1KwVCr9xr",
        "outputId": "ef97762f-f4da-4dec-e873-b1e0dd8cb37d"
      },
      "execution_count": 21,
      "outputs": [
        {
          "output_type": "stream",
          "name": "stdout",
          "text": [
            "[1] \"Students in AI course:\"\n",
            "  student_name student_id Course Marks\n",
            "2      Nazneen          2     AI    92\n",
            "4        Niraj          4     AI    88\n",
            "[1] \"---------------------------------------------------------\"\n",
            "[1] \"Students with marks greater than 80:\"\n",
            "  student_name student_id       Course Marks\n",
            "1       Simran          1 Data Science    85\n",
            "2      Nazneen          2           AI    92\n",
            "4        Niraj          4           AI    88\n",
            "5        Abrar          5 Data Science    95\n",
            "[1] \"---------------------------------------------------------\"\n",
            "[1] \"Updated data frame:\"\n",
            "  student_name student_id        Course Marks Programming_Language\n",
            "1       Simran          1  Data Science    85                    R\n",
            "2      Nazneen          2            AI    92               Python\n",
            "3         Riya          3 Cybersecurity    78                 Java\n",
            "4        Niraj          4            AI    88                    R\n",
            "5        Abrar          5  Data Science    95               Python\n"
          ]
        }
      ]
    },
    {
      "cell_type": "code",
      "source": [
        "# logorithm and Expotential\n",
        "values <- c(1, 2, 3)\n",
        "natural_log <- log(values)\n",
        "exponential <- exp(values)\n",
        "\n",
        "print(paste(\"Natural logarithm:\", paste(natural_log, collapse = \", \")))\n",
        "print(paste(\"Exponential:\", paste(exponential, collapse = \", \")))"
      ],
      "metadata": {
        "colab": {
          "base_uri": "https://localhost:8080/"
        },
        "id": "_oxC3Naqr9wJ",
        "outputId": "9cff8bfd-f39a-4be0-8ec4-d928a087ea45"
      },
      "execution_count": 22,
      "outputs": [
        {
          "output_type": "stream",
          "name": "stdout",
          "text": [
            "[1] \"Natural logarithm: 0, 0.693147180559945, 1.09861228866811\"\n",
            "[1] \"Exponential: 2.71828182845905, 7.38905609893065, 20.0855369231877\"\n"
          ]
        }
      ]
    },
    {
      "cell_type": "code",
      "source": [
        "# Angles Programs\n",
        "angles <- c(15, 45, 90)\n",
        "angles_rad <- angles * pi / 180\n",
        "\n",
        "sine_values <- sin(angles_rad)\n",
        "cosine_values <- cos(angles_rad)\n",
        "tangent_values <- tan(angles_rad)\n",
        "\n",
        "print(paste(\"Sine values:\", paste(sine_values, collapse = \", \")))\n",
        "print(paste(\"Cosine values:\", paste(cosine_values, collapse = \", \")))\n",
        "print(paste(\"Tangent values:\", paste(tangent_values, collapse = \", \")))"
      ],
      "metadata": {
        "colab": {
          "base_uri": "https://localhost:8080/"
        },
        "id": "MGdRury3r9th",
        "outputId": "c122bfb0-f79a-42ce-8e94-03950bbcced4"
      },
      "execution_count": 23,
      "outputs": [
        {
          "output_type": "stream",
          "name": "stdout",
          "text": [
            "[1] \"Sine values: 0.258819045102521, 0.707106781186547, 1\"\n",
            "[1] \"Cosine values: 0.965925826289068, 0.707106781186548, 6.12323399573677e-17\"\n",
            "[1] \"Tangent values: 0.267949192431123, 1, 16331239353195370\"\n"
          ]
        }
      ]
    },
    {
      "cell_type": "code",
      "source": [
        "# Basic Statistical Functions\n",
        "vector <- c(5, 10, 15, 20, 25)\n",
        "\n",
        "# Length and sum\n",
        "vector_length <- length(vector)\n",
        "vector_sum <- sum(vector)\n",
        "\n",
        "# Sequence and repetition\n",
        "seq_values <- seq(1, 10, by = 2)\n",
        "rep_values <- rep(\"R Programming\", 3)\n",
        "\n",
        "print(paste(\"Length of vector:\", vector_length))\n",
        "print(paste(\"Sum of vector:\", vector_sum))\n",
        "print(paste(\"Sequence:\", paste(seq_values, collapse = \", \")))\n",
        "print(paste(\"Repetition:\", paste(rep_values, collapse = \", \")))\n"
      ],
      "metadata": {
        "colab": {
          "base_uri": "https://localhost:8080/"
        },
        "id": "f963PSSfr9p3",
        "outputId": "ede38225-71dc-486b-8f0a-7c72d6ba0084"
      },
      "execution_count": 24,
      "outputs": [
        {
          "output_type": "stream",
          "name": "stdout",
          "text": [
            "[1] \"Length of vector: 5\"\n",
            "[1] \"Sum of vector: 75\"\n",
            "[1] \"Sequence: 1, 3, 5, 7, 9\"\n",
            "[1] \"Repetition: R Programming, R Programming, R Programming\"\n"
          ]
        }
      ]
    },
    {
      "cell_type": "code",
      "source": [
        "# Practice\n",
        "data <- seq(10, 100, by = 10)\n",
        "print(paste(\"Sequence from 10 to 100:\", paste(data, collapse = \", \")))\n",
        "\n",
        "str <- rep(\"R Programming\", 5)\n",
        "print(paste(\"Repeated string:\", paste(str, collapse = \", \")))\n"
      ],
      "metadata": {
        "colab": {
          "base_uri": "https://localhost:8080/"
        },
        "id": "D94v7FU60rlV",
        "outputId": "ad5b9995-3a75-41f2-e64e-04f88158fc9a"
      },
      "execution_count": 25,
      "outputs": [
        {
          "output_type": "stream",
          "name": "stdout",
          "text": [
            "[1] \"Sequence from 10 to 100: 10, 20, 30, 40, 50, 60, 70, 80, 90, 100\"\n",
            "[1] \"Repeated string: R Programming, R Programming, R Programming, R Programming, R Programming\"\n"
          ]
        }
      ]
    }
  ],
  "metadata": {
    "colab": {
      "provenance": [],
      "authorship_tag": "ABX9TyOz9DrYDqdX2e1AN8KWFelF",
      "include_colab_link": true
    },
    "kernelspec": {
      "display_name": "R",
      "name": "ir"
    },
    "language_info": {
      "name": "R"
    }
  },
  "nbformat": 4,
  "nbformat_minor": 0
}